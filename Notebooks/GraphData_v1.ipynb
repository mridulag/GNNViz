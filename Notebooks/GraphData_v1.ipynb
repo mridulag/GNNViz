{
 "cells": [
  {
   "cell_type": "code",
   "execution_count": 1,
   "metadata": {},
   "outputs": [],
   "source": [
    "import csv\n",
    "import pandas as pd \n",
    "import json"
   ]
  },
  {
   "cell_type": "code",
   "execution_count": 9,
   "metadata": {},
   "outputs": [
    {
     "name": "stdout",
     "output_type": "stream",
     "text": [
      "{'nodes': [{'id': '1', 'group': 1, 'f1': '0', 'f2': '0', 'f3': '0', 'f4': '0', 'f5': '0', 'h11': '1', 'h12': '1', 'h13': '1', 'h14': '1', 'h15': '1', 'h21': '2', 'h22': '2', 'h23': '2', 'h24': '2', 'h25': '2', 'h31': '3', 'h32': '3', 'h33': '3', 'h34': '3', 'h35': '3'}, {'id': '2', 'group': 1, 'f1': '0', 'f2': '0', 'f3': '0', 'f4': '0', 'f5': '0', 'h11': '1', 'h12': '1', 'h13': '1', 'h14': '1', 'h15': '1', 'h21': '2', 'h22': '2', 'h23': '2', 'h24': '2', 'h25': '2', 'h31': '3', 'h32': '3', 'h33': '3', 'h34': '3', 'h35': '3'}, {'id': '3', 'group': 2, 'f1': '0', 'f2': '0', 'f3': '0', 'f4': '0', 'f5': '0', 'h11': '1', 'h12': '1', 'h13': '1', 'h14': '1', 'h15': '1', 'h21': '2', 'h22': '2', 'h23': '2', 'h24': '2', 'h25': '2', 'h31': '3', 'h32': '3', 'h33': '3', 'h34': '3', 'h35': '3'}, {'id': '4', 'group': 1, 'f1': '0', 'f2': '0', 'f3': '0', 'f4': '0', 'f5': '0', 'h11': '1', 'h12': '1', 'h13': '1', 'h14': '1', 'h15': '1', 'h21': '2', 'h22': '2', 'h23': '2', 'h24': '2', 'h25': '2', 'h31': '3', 'h32': '3', 'h33': '3', 'h34': '3', 'h35': '3'}, {'id': '5', 'group': 0, 'f1': '0', 'f2': '0', 'f3': '0', 'f4': '0', 'f5': '0', 'h11': '1', 'h12': '1', 'h13': '1', 'h14': '1', 'h15': '1', 'h21': '2', 'h22': '2', 'h23': '2', 'h24': '2', 'h25': '2', 'h31': '3', 'h32': '3', 'h33': '3', 'h34': '3', 'h35': '3'}, {'id': '6', 'group': 0, 'f1': '0', 'f2': '0', 'f3': '0', 'f4': '0', 'f5': '0', 'h11': '1', 'h12': '1', 'h13': '1', 'h14': '1', 'h15': '1', 'h21': '2', 'h22': '2', 'h23': '2', 'h24': '2', 'h25': '2', 'h31': '3', 'h32': '3', 'h33': '3', 'h34': '3', 'h35': '3'}, {'id': '7', 'group': 0, 'f1': '0', 'f2': '0', 'f3': '0', 'f4': '0', 'f5': '0', 'h11': '1', 'h12': '1', 'h13': '1', 'h14': '1', 'h15': '1', 'h21': '2', 'h22': '2', 'h23': '2', 'h24': '2', 'h25': '2', 'h31': '3', 'h32': '3', 'h33': '3', 'h34': '3', 'h35': '3'}, {'id': '8', 'group': 1, 'f1': '0', 'f2': '0', 'f3': '0', 'f4': '0', 'f5': '0', 'h11': '1', 'h12': '1', 'h13': '1', 'h14': '1', 'h15': '1', 'h21': '2', 'h22': '2', 'h23': '2', 'h24': '2', 'h25': '2', 'h31': '3', 'h32': '3', 'h33': '3', 'h34': '3', 'h35': '3'}, {'id': '9', 'group': 3, 'f1': '0', 'f2': '0', 'f3': '0', 'f4': '0', 'f5': '0', 'h11': '1', 'h12': '1', 'h13': '1', 'h14': '1', 'h15': '1', 'h21': '2', 'h22': '2', 'h23': '2', 'h24': '2', 'h25': '2', 'h31': '3', 'h32': '3', 'h33': '3', 'h34': '3', 'h35': '3'}, {'id': '10', 'group': 2, 'f1': '0', 'f2': '0', 'f3': '0', 'f4': '0', 'f5': '0', 'h11': '1', 'h12': '1', 'h13': '1', 'h14': '1', 'h15': '1', 'h21': '2', 'h22': '2', 'h23': '2', 'h24': '2', 'h25': '2', 'h31': '3', 'h32': '3', 'h33': '3', 'h34': '3', 'h35': '3'}, {'id': '11', 'group': 0, 'f1': '0', 'f2': '0', 'f3': '0', 'f4': '0', 'f5': '0', 'h11': '1', 'h12': '1', 'h13': '1', 'h14': '1', 'h15': '1', 'h21': '2', 'h22': '2', 'h23': '2', 'h24': '2', 'h25': '2', 'h31': '3', 'h32': '3', 'h33': '3', 'h34': '3', 'h35': '3'}, {'id': '12', 'group': 1, 'f1': '0', 'f2': '0', 'f3': '0', 'f4': '0', 'f5': '0', 'h11': '1', 'h12': '1', 'h13': '1', 'h14': '1', 'h15': '1', 'h21': '2', 'h22': '2', 'h23': '2', 'h24': '2', 'h25': '2', 'h31': '3', 'h32': '3', 'h33': '3', 'h34': '3', 'h35': '3'}, {'id': '13', 'group': 1, 'f1': '0', 'f2': '0', 'f3': '0', 'f4': '0', 'f5': '0', 'h11': '1', 'h12': '1', 'h13': '1', 'h14': '1', 'h15': '1', 'h21': '2', 'h22': '2', 'h23': '2', 'h24': '2', 'h25': '2', 'h31': '3', 'h32': '3', 'h33': '3', 'h34': '3', 'h35': '3'}, {'id': '14', 'group': 1, 'f1': '0', 'f2': '0', 'f3': '0', 'f4': '0', 'f5': '0', 'h11': '1', 'h12': '1', 'h13': '1', 'h14': '1', 'h15': '1', 'h21': '2', 'h22': '2', 'h23': '2', 'h24': '2', 'h25': '2', 'h31': '3', 'h32': '3', 'h33': '3', 'h34': '3', 'h35': '3'}]}\n",
      "Nodes =  ['1', '2', '3', '4', '5', '6', '7', '8', '9', '10', '11', '12', '13', '14']\n"
     ]
    }
   ],
   "source": [
    "clusters = {}\n",
    "clusters[\"nodes\"] = []\n",
    "nodes = []\n",
    "\n",
    "#numfeatures = 5\n",
    "fealist = \"0\"\n",
    "fealist1 = \"1\"\n",
    "fealist2 = \"2\"\n",
    "fealist3 = \"3\"\n",
    "\n",
    "df1 = pd.read_csv('../Graph_Viz/Data/Clusters.csv') \n",
    "df = df.sort_values(by=['source'])\n",
    "#print(df1)\n",
    "for index, row in df.iterrows():\n",
    "    if row[0] in range(0,15):\n",
    "        i = str(row[0])\n",
    "        g = (row[1])\n",
    "\n",
    "        node = {\"id\": i, \"group\": int(g),\"f1\": fealist,\"f2\": fealist,\"f3\": fealist,\"f4\": fealist,\"f5\": fealist\n",
    "                ,\"h11\": fealist1,\"h12\": fealist1,\"h13\": fealist1,\"h14\": fealist1,\"h15\": fealist1\n",
    "                ,\"h21\": fealist2,\"h22\": fealist2,\"h23\": fealist2,\"h24\": fealist2,\"h25\": fealist2\n",
    "                ,\"h31\": fealist3,\"h32\": fealist3,\"h33\": fealist3,\"h34\": fealist3,\"h35\": fealist3}\n",
    "        #print(node)\n",
    "        clusters[\"nodes\"].append(node)\n",
    "        nodes.append(i)\n",
    "print(clusters)\n",
    "print(\"Nodes = \", nodes)\n",
    "with open('../Graph_Viz/D3Code/GraphNetwork/Updated/Data1.json', 'w') as outfile:  \n",
    "    json.dump(clusters, outfile)\n",
    "outfile.close()"
   ]
  },
  {
   "cell_type": "code",
   "execution_count": 16,
   "metadata": {},
   "outputs": [
    {
     "name": "stdout",
     "output_type": "stream",
     "text": [
      "{'source': '1', 'target': '14', 'strength': 0.25}\n",
      "{'source': '1', 'target': '13', 'strength': 0.25}\n",
      "{'source': '1', 'target': '12', 'strength': 0.25}\n",
      "{'source': '1', 'target': '11', 'strength': 0.25}\n",
      "{'source': '1', 'target': '9', 'strength': 0.25}\n",
      "{'source': '1', 'target': '8', 'strength': 0.25}\n",
      "{'source': '1', 'target': '7', 'strength': 0.25}\n",
      "{'source': '1', 'target': '6', 'strength': 0.25}\n",
      "{'source': '1', 'target': '5', 'strength': 0.25}\n",
      "{'source': '1', 'target': '4', 'strength': 0.25}\n",
      "{'source': '1', 'target': '3', 'strength': 0.25}\n",
      "{'source': '1', 'target': '2', 'strength': 0.25}\n",
      "{'source': '2', 'target': '14', 'strength': 0.25}\n",
      "{'source': '2', 'target': '8', 'strength': 0.25}\n",
      "{'source': '2', 'target': '4', 'strength': 0.25}\n",
      "{'source': '2', 'target': '3', 'strength': 0.25}\n",
      "{'source': '3', 'target': '14', 'strength': 0.25}\n",
      "{'source': '3', 'target': '9', 'strength': 0.25}\n",
      "{'source': '3', 'target': '10', 'strength': 0.25}\n",
      "{'source': '3', 'target': '8', 'strength': 0.25}\n",
      "{'source': '3', 'target': '4', 'strength': 0.25}\n",
      "{'source': '4', 'target': '14', 'strength': 0.25}\n",
      "{'source': '4', 'target': '13', 'strength': 0.25}\n",
      "{'source': '4', 'target': '8', 'strength': 0.25}\n",
      "{'source': '5', 'target': '11', 'strength': 0.25}\n",
      "{'source': '5', 'target': '7', 'strength': 0.25}\n",
      "{'source': '6', 'target': '11', 'strength': 0.25}\n",
      "{'source': '6', 'target': '7', 'strength': 0.25}\n",
      "{'nodes': [{'id': '1', 'group': 1, 'f1': '0', 'f2': '0', 'f3': '0', 'f4': '0', 'f5': '0', 'h11': '1', 'h12': '1', 'h13': '1', 'h14': '1', 'h15': '1', 'h21': '2', 'h22': '2', 'h23': '2', 'h24': '2', 'h25': '2', 'h31': '3', 'h32': '3', 'h33': '3', 'h34': '3', 'h35': '3'}, {'id': '2', 'group': 1, 'f1': '0', 'f2': '0', 'f3': '0', 'f4': '0', 'f5': '0', 'h11': '1', 'h12': '1', 'h13': '1', 'h14': '1', 'h15': '1', 'h21': '2', 'h22': '2', 'h23': '2', 'h24': '2', 'h25': '2', 'h31': '3', 'h32': '3', 'h33': '3', 'h34': '3', 'h35': '3'}, {'id': '3', 'group': 2, 'f1': '0', 'f2': '0', 'f3': '0', 'f4': '0', 'f5': '0', 'h11': '1', 'h12': '1', 'h13': '1', 'h14': '1', 'h15': '1', 'h21': '2', 'h22': '2', 'h23': '2', 'h24': '2', 'h25': '2', 'h31': '3', 'h32': '3', 'h33': '3', 'h34': '3', 'h35': '3'}, {'id': '4', 'group': 1, 'f1': '0', 'f2': '0', 'f3': '0', 'f4': '0', 'f5': '0', 'h11': '1', 'h12': '1', 'h13': '1', 'h14': '1', 'h15': '1', 'h21': '2', 'h22': '2', 'h23': '2', 'h24': '2', 'h25': '2', 'h31': '3', 'h32': '3', 'h33': '3', 'h34': '3', 'h35': '3'}, {'id': '5', 'group': 0, 'f1': '0', 'f2': '0', 'f3': '0', 'f4': '0', 'f5': '0', 'h11': '1', 'h12': '1', 'h13': '1', 'h14': '1', 'h15': '1', 'h21': '2', 'h22': '2', 'h23': '2', 'h24': '2', 'h25': '2', 'h31': '3', 'h32': '3', 'h33': '3', 'h34': '3', 'h35': '3'}, {'id': '6', 'group': 0, 'f1': '0', 'f2': '0', 'f3': '0', 'f4': '0', 'f5': '0', 'h11': '1', 'h12': '1', 'h13': '1', 'h14': '1', 'h15': '1', 'h21': '2', 'h22': '2', 'h23': '2', 'h24': '2', 'h25': '2', 'h31': '3', 'h32': '3', 'h33': '3', 'h34': '3', 'h35': '3'}, {'id': '7', 'group': 0, 'f1': '0', 'f2': '0', 'f3': '0', 'f4': '0', 'f5': '0', 'h11': '1', 'h12': '1', 'h13': '1', 'h14': '1', 'h15': '1', 'h21': '2', 'h22': '2', 'h23': '2', 'h24': '2', 'h25': '2', 'h31': '3', 'h32': '3', 'h33': '3', 'h34': '3', 'h35': '3'}, {'id': '8', 'group': 1, 'f1': '0', 'f2': '0', 'f3': '0', 'f4': '0', 'f5': '0', 'h11': '1', 'h12': '1', 'h13': '1', 'h14': '1', 'h15': '1', 'h21': '2', 'h22': '2', 'h23': '2', 'h24': '2', 'h25': '2', 'h31': '3', 'h32': '3', 'h33': '3', 'h34': '3', 'h35': '3'}, {'id': '9', 'group': 3, 'f1': '0', 'f2': '0', 'f3': '0', 'f4': '0', 'f5': '0', 'h11': '1', 'h12': '1', 'h13': '1', 'h14': '1', 'h15': '1', 'h21': '2', 'h22': '2', 'h23': '2', 'h24': '2', 'h25': '2', 'h31': '3', 'h32': '3', 'h33': '3', 'h34': '3', 'h35': '3'}, {'id': '10', 'group': 2, 'f1': '0', 'f2': '0', 'f3': '0', 'f4': '0', 'f5': '0', 'h11': '1', 'h12': '1', 'h13': '1', 'h14': '1', 'h15': '1', 'h21': '2', 'h22': '2', 'h23': '2', 'h24': '2', 'h25': '2', 'h31': '3', 'h32': '3', 'h33': '3', 'h34': '3', 'h35': '3'}, {'id': '11', 'group': 0, 'f1': '0', 'f2': '0', 'f3': '0', 'f4': '0', 'f5': '0', 'h11': '1', 'h12': '1', 'h13': '1', 'h14': '1', 'h15': '1', 'h21': '2', 'h22': '2', 'h23': '2', 'h24': '2', 'h25': '2', 'h31': '3', 'h32': '3', 'h33': '3', 'h34': '3', 'h35': '3'}, {'id': '12', 'group': 1, 'f1': '0', 'f2': '0', 'f3': '0', 'f4': '0', 'f5': '0', 'h11': '1', 'h12': '1', 'h13': '1', 'h14': '1', 'h15': '1', 'h21': '2', 'h22': '2', 'h23': '2', 'h24': '2', 'h25': '2', 'h31': '3', 'h32': '3', 'h33': '3', 'h34': '3', 'h35': '3'}, {'id': '13', 'group': 1, 'f1': '0', 'f2': '0', 'f3': '0', 'f4': '0', 'f5': '0', 'h11': '1', 'h12': '1', 'h13': '1', 'h14': '1', 'h15': '1', 'h21': '2', 'h22': '2', 'h23': '2', 'h24': '2', 'h25': '2', 'h31': '3', 'h32': '3', 'h33': '3', 'h34': '3', 'h35': '3'}, {'id': '14', 'group': 1, 'f1': '0', 'f2': '0', 'f3': '0', 'f4': '0', 'f5': '0', 'h11': '1', 'h12': '1', 'h13': '1', 'h14': '1', 'h15': '1', 'h21': '2', 'h22': '2', 'h23': '2', 'h24': '2', 'h25': '2', 'h31': '3', 'h32': '3', 'h33': '3', 'h34': '3', 'h35': '3'}], 'links': [{'source': '1', 'target': '14', 'strength': 0.25}, {'source': '1', 'target': '13', 'strength': 0.25}, {'source': '1', 'target': '12', 'strength': 0.25}, {'source': '1', 'target': '11', 'strength': 0.25}, {'source': '1', 'target': '9', 'strength': 0.25}, {'source': '1', 'target': '8', 'strength': 0.25}, {'source': '1', 'target': '7', 'strength': 0.25}, {'source': '1', 'target': '6', 'strength': 0.25}, {'source': '1', 'target': '5', 'strength': 0.25}, {'source': '1', 'target': '4', 'strength': 0.25}, {'source': '1', 'target': '3', 'strength': 0.25}, {'source': '1', 'target': '2', 'strength': 0.25}, {'source': '2', 'target': '14', 'strength': 0.25}, {'source': '2', 'target': '8', 'strength': 0.25}, {'source': '2', 'target': '4', 'strength': 0.25}, {'source': '2', 'target': '3', 'strength': 0.25}, {'source': '3', 'target': '14', 'strength': 0.25}, {'source': '3', 'target': '9', 'strength': 0.25}, {'source': '3', 'target': '10', 'strength': 0.25}, {'source': '3', 'target': '8', 'strength': 0.25}, {'source': '3', 'target': '4', 'strength': 0.25}, {'source': '4', 'target': '14', 'strength': 0.25}, {'source': '4', 'target': '13', 'strength': 0.25}, {'source': '4', 'target': '8', 'strength': 0.25}, {'source': '5', 'target': '11', 'strength': 0.25}, {'source': '5', 'target': '7', 'strength': 0.25}, {'source': '6', 'target': '11', 'strength': 0.25}, {'source': '6', 'target': '7', 'strength': 0.25}]}\n"
     ]
    }
   ],
   "source": [
    "clusters[\"links\"] = []\n",
    "df = pd.read_csv('../Graph_Viz/Data/edges.csv') \n",
    "for index, row in df.iterrows():\n",
    "    if row[0] and row[1] in range(0,15):\n",
    "        s = str(row[0])\n",
    "        d = (row[1])\n",
    "        node = {\"source\": s, \"target\": str(d), \"strength\": float(0.25)}\n",
    "        print(node)\n",
    "        clusters[\"links\"].append(node)\n",
    "    \n",
    "print(clusters)"
   ]
  },
  {
   "cell_type": "code",
   "execution_count": 17,
   "metadata": {},
   "outputs": [],
   "source": [
    "# clusters[\"features\"] = []\n",
    "# numfeatues = 5\n",
    "# numnodes = len(nodes)\n",
    "# feature_list = []\n",
    "# for i in range(0,numfeatues):#Features\n",
    "#     feature_list.append(\"f\"+str(i))\n",
    "# #print(feature_list)\n",
    "# df_feat = pd.DataFrame(5, index=nodes, columns=feature_list)\n",
    "# print(df_feat)\n",
    "\n",
    "# for index, rows in df_feat.iterrows():\n",
    "#     fealist = ''\n",
    "#     for i in rows:\n",
    "#         fealist = fealist + str(i)+\" \"\n",
    "#     #print(index,fealist)\n",
    "#     nodefea = {\"node\":str(index),\"featureslist\":str(fealist)}\n",
    "#     print(nodefea)\n",
    "#     clusters[\"features\"].append(nodefea)\n",
    "    \n",
    "# print(clusters)"
   ]
  },
  {
   "cell_type": "code",
   "execution_count": 18,
   "metadata": {},
   "outputs": [],
   "source": [
    "#print(clusters)\n",
    "with open('../Graph_Viz/D3Code/GraphNetwork/Updated/KarateJSON4.json', 'w') as outfile:  \n",
    "    json.dump(clusters, outfile)\n",
    "outfile.close()"
   ]
  },
  {
   "cell_type": "code",
   "execution_count": null,
   "metadata": {},
   "outputs": [],
   "source": []
  }
 ],
 "metadata": {
  "kernelspec": {
   "display_name": "Python 3",
   "language": "python",
   "name": "python3"
  },
  "language_info": {
   "codemirror_mode": {
    "name": "ipython",
    "version": 3
   },
   "file_extension": ".py",
   "mimetype": "text/x-python",
   "name": "python",
   "nbconvert_exporter": "python",
   "pygments_lexer": "ipython3",
   "version": "3.6.8"
  }
 },
 "nbformat": 4,
 "nbformat_minor": 2
}
